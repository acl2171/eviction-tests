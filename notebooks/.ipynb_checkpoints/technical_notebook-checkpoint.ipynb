{
 "cells": [
  {
   "cell_type": "markdown",
   "metadata": {},
   "source": [
    "## Title: \n"
   ]
  },
  {
   "cell_type": "markdown",
   "metadata": {},
   "source": [
    "Contributors: Nicole Bills and Allison Lee"
   ]
  },
  {
   "cell_type": "markdown",
   "metadata": {},
   "source": [
    "### Table of Contents\n",
    "1. <a href ='#goal'>Problem Statement</a>\n",
    "2. <a href='#datasources'>Data Sources</a>\n",
    "3. <a href='#collection'>Data Collection</a>\n",
    "4. <a href='#testing'>Hypothesis Test I</a>\n",
    "5. <a href='#test2'>Hypothesis Test II</a>"
   ]
  },
  {
   "cell_type": "code",
   "execution_count": 143,
   "metadata": {},
   "outputs": [],
   "source": [
    "# Import libraries\n",
    "import pandas as pd\n",
    "import numpy as np\n",
    "from scipy import stats\n",
    "import matplotlib.pyplot as plt\n",
    "import seaborn as sns"
   ]
  },
  {
   "cell_type": "markdown",
   "metadata": {},
   "source": [
    "<a id='goal'></a>\n",
    "### Problem Statement"
   ]
  },
  {
   "cell_type": "markdown",
   "metadata": {},
   "source": [
    "The goal of this analysis is to gain a better understanding of eviction rates in Ward 8, Washington D.C. We aim to test two hypotheses: \n",
    "1. There is a significant difference between eviction rates in census tracts with Planned Unit Developments (PUDs) and those without. \n",
    "2. Census tracts where the poverty rate is above 40 percent have higher eviction rates than those where the poverty rate is below 40 percent. "
   ]
  },
  {
   "cell_type": "markdown",
   "metadata": {},
   "source": [
    "### Approach"
   ]
  },
  {
   "cell_type": "markdown",
   "metadata": {},
   "source": [
    "<a id='datasources'></a>\n",
    "### Data Sources"
   ]
  },
  {
   "cell_type": "markdown",
   "metadata": {},
   "source": [
    "The Eviction Lab: https://evictionlab.org/\n",
    "\n",
    "This research uses data from The Eviction Lab at Princeton University, a project directed by Matthew Desmond and designed by Ashley Gromis, Lavar Edmonds, James Hendrickson, Katie Krywokulski, Lillian Leung, and Adam Porton. The Eviction Lab is funded by the JPB, Gates, and Ford Foundations as well as the Chan Zuckerberg Initiative. More information is found at evictionlab.org.\n",
    "\n",
    "\n",
    "Open Data DC: https://opendata.dc.gov/\n",
    " - Planned Unit Developments: https://opendata.dc.gov/datasets/1b3e77aaa6154d1285af639323b0504f_14/data"
   ]
  },
  {
   "cell_type": "markdown",
   "metadata": {},
   "source": [
    "<a id='collection'></a>\n",
    "### Data Cleaning"
   ]
  },
  {
   "cell_type": "code",
   "execution_count": 22,
   "metadata": {},
   "outputs": [],
   "source": []
  },
  {
   "cell_type": "code",
   "execution_count": null,
   "metadata": {},
   "outputs": [],
   "source": []
  },
  {
   "cell_type": "markdown",
   "metadata": {},
   "source": [
    "<a id='testing'></a>\n",
    "### Hypothesis Test I"
   ]
  },
  {
   "cell_type": "markdown",
   "metadata": {},
   "source": [
    "We selected a significance level of alpha = 0.05. \n",
    "\n",
    "We set our null and alternative hypotheses as follows:\n",
    "\n",
    "**H0:** There is no difference between eviction rates in census tracts with PUDs compared to tracts without PUDs. \n",
    "\n",
    "**Ha:** On average, there is a statistically significant difference between eviction rates.\n",
    "\n",
    "To test these claims, we compared the means of two samples: one sample of tracts in DC with PUDs, and one sample of tracts without PUDs. We assume the samples are independent and from normally distributed populations, and we use a two-tailed t-test to test if the difference in the means can be attributed to random chance. We selected Welsch's t-test because our sample sizes are small (less than thirty), and we do not assume equal population variances. "
   ]
  },
  {
   "cell_type": "code",
   "execution_count": 114,
   "metadata": {},
   "outputs": [],
   "source": [
    "# TO DO ->  prove assumptions have been met"
   ]
  },
  {
   "cell_type": "code",
   "execution_count": 144,
   "metadata": {},
   "outputs": [],
   "source": [
    "df = pd.read_csv('../../data/ward8.csv')"
   ]
  },
  {
   "cell_type": "code",
   "execution_count": null,
   "metadata": {},
   "outputs": [],
   "source": []
  },
  {
   "cell_type": "code",
   "execution_count": 145,
   "metadata": {},
   "outputs": [],
   "source": [
    "# Create a binary variable 1 if PUDs exist, 0 if none. \n",
    "df['PUD'] = [0 if x==True else 1 for x in df['PUD_NAME'].isna()]"
   ]
  },
  {
   "cell_type": "code",
   "execution_count": 152,
   "metadata": {},
   "outputs": [],
   "source": [
    "# Find the means of the two samples:\n",
    "with_PUDS = (df[df['PUD'] == 0])\n",
    "\n",
    "no_PUDS = df[df['PUD']==1]"
   ]
  },
  {
   "cell_type": "code",
   "execution_count": 153,
   "metadata": {},
   "outputs": [],
   "source": [
    "h1_result = stats.ttest_ind(with_PUDS['eviction-rate'], no_PUDS['eviction-rate'], equal_var = False)"
   ]
  },
  {
   "cell_type": "code",
   "execution_count": 154,
   "metadata": {},
   "outputs": [
    {
     "data": {
      "text/plain": [
       "Ttest_indResult(statistic=0.31466609718334176, pvalue=0.7592466663700481)"
      ]
     },
     "execution_count": 154,
     "metadata": {},
     "output_type": "execute_result"
    }
   ],
   "source": [
    "h1_result"
   ]
  },
  {
   "cell_type": "code",
   "execution_count": null,
   "metadata": {},
   "outputs": [],
   "source": [
    "# Interpretation"
   ]
  },
  {
   "cell_type": "markdown",
   "metadata": {},
   "source": [
    "<a id='test2'></a>\n",
    "### Hypothesis Test II"
   ]
  },
  {
   "cell_type": "markdown",
   "metadata": {},
   "source": [
    "We selected a significance level of alpha = 0.05.\n",
    "\n",
    "We set our null and alternative hypotheses as follows:\n",
    "\n",
    "**H0:** Census tracts with poverty rates higher than 40 percent have the same or lower rates of eviction. \n",
    "\n",
    "**Ha:** Census tracts with poverty rates higher than 40 percent have higher rates of eviction. "
   ]
  },
  {
   "cell_type": "markdown",
   "metadata": {},
   "source": [
    "To test our alternative hypothesis, we decided to use a one-tailed t-test. This test was appropriate because we are dealing with small sample sizes, and unknown population variances (where we assume the variances are not equal). "
   ]
  },
  {
   "cell_type": "code",
   "execution_count": 115,
   "metadata": {},
   "outputs": [],
   "source": [
    "# TO DO - prove assumptions have been met"
   ]
  },
  {
   "cell_type": "code",
   "execution_count": 155,
   "metadata": {},
   "outputs": [],
   "source": [
    "poverty = df[df['poverty-rate'] >= 40.0]\n",
    "low = df[df['poverty-rate']< 40.0]"
   ]
  },
  {
   "cell_type": "code",
   "execution_count": 158,
   "metadata": {},
   "outputs": [],
   "source": [
    "h2_test = stats.ttest_ind(poverty['eviction-rate'], low['eviction-rate'], equal_var = False)"
   ]
  },
  {
   "cell_type": "code",
   "execution_count": 159,
   "metadata": {},
   "outputs": [
    {
     "data": {
      "text/plain": [
       "Ttest_indResult(statistic=-2.5966254090573613, pvalue=0.015633962244444684)"
      ]
     },
     "execution_count": 159,
     "metadata": {},
     "output_type": "execute_result"
    }
   ],
   "source": [
    "h2_test"
   ]
  },
  {
   "cell_type": "code",
   "execution_count": 162,
   "metadata": {},
   "outputs": [],
   "source": [
    "output_pvalue = h2_test[1]"
   ]
  },
  {
   "cell_type": "markdown",
   "metadata": {},
   "source": [
    "The scipy stats test returns a p-value for a two-sided ttest. To evaluate the one-tailed p-value against our alpha, we need to divide the output p-value by two. "
   ]
  },
  {
   "cell_type": "code",
   "execution_count": 164,
   "metadata": {},
   "outputs": [
    {
     "data": {
      "text/plain": [
       "0.007816981122222342"
      ]
     },
     "execution_count": 164,
     "metadata": {},
     "output_type": "execute_result"
    }
   ],
   "source": [
    "p_value = output_pvalue/2\n",
    "p_value"
   ]
  }
 ],
 "metadata": {
  "kernelspec": {
   "display_name": "base",
   "language": "python",
   "name": "base"
  },
  "language_info": {
   "codemirror_mode": {
    "name": "ipython",
    "version": 3
   },
   "file_extension": ".py",
   "mimetype": "text/x-python",
   "name": "python",
   "nbconvert_exporter": "python",
   "pygments_lexer": "ipython3",
   "version": "3.7.4"
  }
 },
 "nbformat": 4,
 "nbformat_minor": 4
}
