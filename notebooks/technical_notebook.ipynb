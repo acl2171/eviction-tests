{
 "cells": [
  {
   "cell_type": "markdown",
   "metadata": {},
   "source": [
    "## Title: \n"
   ]
  },
  {
   "cell_type": "markdown",
   "metadata": {},
   "source": [
    "Contributors: Nicole Bills and Allison Lee"
   ]
  },
  {
   "cell_type": "markdown",
   "metadata": {},
   "source": [
    "### Table of Contents\n",
    "1. <a href='#datasources'>Data Sources</a>\n",
    "2. <a href='#collection'>Data Collection</a>"
   ]
  },
  {
   "cell_type": "markdown",
   "metadata": {},
   "source": [
    "<a id='datasources'></a>\n",
    "### Data Sources"
   ]
  },
  {
   "cell_type": "markdown",
   "metadata": {},
   "source": [
    "The Eviction Lab: https://evictionlab.org/\n",
    "\n",
    "This research uses data from The Eviction Lab at Princeton University, a project directed by Matthew Desmond and designed by Ashley Gromis, Lavar Edmonds, James Hendrickson, Katie Krywokulski, Lillian Leung, and Adam Porton. The Eviction Lab is funded by the JPB, Gates, and Ford Foundations as well as the Chan Zuckerberg Initiative. More information is found at evictionlab.org.\n",
    "\n",
    "\n",
    "Open Data DC: https://opendata.dc.gov/\n",
    " - Planned Unit Developments: https://opendata.dc.gov/datasets/1b3e77aaa6154d1285af639323b0504f_14/data\n",
    " - Tax Increment Financing Areas: https://opendata.dc.gov/datasets/f60a6d54bf2e4e12a779fd0ba3a68e7e_26/data"
   ]
  },
  {
   "cell_type": "markdown",
   "metadata": {},
   "source": [
    "<a id='collection'></a>\n",
    "### Data Collection"
   ]
  },
  {
   "cell_type": "code",
   "execution_count": 2,
   "metadata": {},
   "outputs": [],
   "source": [
    "# We used Amazon S3 REST API to access data from the Eviction Lab\n",
    "#All files are hosted on AWS S3, and can be accessed via the S3 API in the eviction-lab-data-downloads bucket."
   ]
  },
  {
   "cell_type": "code",
   "execution_count": 17,
   "metadata": {},
   "outputs": [],
   "source": [
    "# Low priority\n",
    "\n",
    "# import boto3\n",
    "# s3 = boto3.client('s3', \n",
    "#                 endpoint_url='https://s3.console.aws.amazon.com/s3/buckets/eviction-lab-data-downloads/?region=us-east-1')\n",
    "#  conn = boto3.s3\n",
    "# s3.download_file(Bucket = 'eviction-lab-data-downloads', \n",
    "#                  Key = 'DC/block-groups', \n",
    "#                  Filename = 'data.csv')\n",
    "\n",
    "# link : https://stackoverflow.com/questions/5315603/how-do-i-get-the-file-key-size-in-boto-s3"
   ]
  },
  {
   "cell_type": "code",
   "execution_count": 22,
   "metadata": {},
   "outputs": [],
   "source": []
  },
  {
   "cell_type": "code",
   "execution_count": null,
   "metadata": {},
   "outputs": [],
   "source": []
  },
  {
   "cell_type": "code",
   "execution_count": null,
   "metadata": {},
   "outputs": [],
   "source": []
  },
  {
   "cell_type": "code",
   "execution_count": null,
   "metadata": {},
   "outputs": [],
   "source": []
  }
 ],
 "metadata": {
  "kernelspec": {
   "display_name": "base",
   "language": "python",
   "name": "base"
  },
  "language_info": {
   "codemirror_mode": {
    "name": "ipython",
    "version": 3
   },
   "file_extension": ".py",
   "mimetype": "text/x-python",
   "name": "python",
   "nbconvert_exporter": "python",
   "pygments_lexer": "ipython3",
   "version": "3.7.4"
  }
 },
 "nbformat": 4,
 "nbformat_minor": 4
}
